{
 "cells": [
  {
   "cell_type": "code",
   "execution_count": null,
   "metadata": {},
   "outputs": [],
   "source": [
    "# In[0]:\n",
    "import psycopg2 as pg\n",
    "import pandas as pd"
   ]
  },
  {
   "cell_type": "code",
   "execution_count": null,
   "metadata": {},
   "outputs": [],
   "source": [
    "# In[2]:\n",
    "class db_conn:\n",
    "    \"\"\" db_conn class for representing and manipulating postgres connection. \"\"\"\n",
    "\n",
    "    def __init__(self, server, database, username, pwd):\n",
    "        self.server = server\n",
    "        self.database = database\n",
    "        self.username = username\n",
    "        self.password = pwd\n",
    "\n",
    "    def get_server(self):\n",
    "        return self.server\n",
    "\n",
    "    def get_database(self):\n",
    "        return self.database\n",
    "    def get_username(self):\n",
    "        return self.username\n",
    "    \n",
    "    def postgres(self):\n",
    "        conn = pg.connect(dbname = self.database, \n",
    "                          user=self.username, \n",
    "                          password=self.password, \n",
    "                          host=self.server)\n",
    "        self.conn = conn\n",
    "        return conn\n",
    "    \n",
    "    def get_dataframe(self, sql):\n",
    "        df = pd.read_sql(sql, self.conn)\n",
    "        return df"
   ]
  }
 ],
 "metadata": {
  "kernelspec": {
   "display_name": "Python 3",
   "language": "python",
   "name": "python3"
  },
  "language_info": {
   "codemirror_mode": {
    "name": "ipython",
    "version": 3
   },
   "file_extension": ".py",
   "mimetype": "text/x-python",
   "name": "python",
   "nbconvert_exporter": "python",
   "pygments_lexer": "ipython3",
   "version": "3.8.5"
  }
 },
 "nbformat": 4,
 "nbformat_minor": 4
}
